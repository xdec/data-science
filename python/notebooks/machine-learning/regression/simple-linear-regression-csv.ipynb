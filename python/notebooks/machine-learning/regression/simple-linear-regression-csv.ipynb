{
 "metadata": {
  "language_info": {
   "codemirror_mode": {
    "name": "ipython",
    "version": 3
   },
   "file_extension": ".py",
   "mimetype": "text/x-python",
   "name": "python",
   "nbconvert_exporter": "python",
   "pygments_lexer": "ipython3",
   "version": "3.9.1"
  },
  "orig_nbformat": 2,
  "kernelspec": {
   "name": "python3",
   "display_name": "Python 3.9.1 64-bit",
   "metadata": {
    "interpreter": {
     "hash": "1a05dc623ad24f4a74001fceb05ae0d4f7cc7768e50c19a632bece4017063430"
    }
   }
  }
 },
 "nbformat": 4,
 "nbformat_minor": 2,
 "cells": [
  {
   "source": [
    "# Simple Linear Regression\n",
    "### NOTE: This version is for CSV file imports!\n",
    "\n",
    "---\n",
    "\n",
    "Created By: Xavier De Carvalho  \n",
    "Created On: 18/06/2021  \n",
    "Upated By: N/A  \n",
    "Updated On: N/A  \n",
    "Version: csv0.0.01\n",
    "\n",
    "### Requirements\n",
    "\n",
    "---\n",
    "\n",
    "##### Required Data Format\n",
    "- File Type: CSV\n",
    "- File Shape: 2 Columns, (n) Rows\n",
    "##### Required Python Packages\n",
    "- Numpy\n",
    "- Matplotlib\n",
    "    - PyPlot\n",
    "- Pandas\n",
    "- ScikitLearn\n",
    "    - Model_Selection\n",
    "    - LinearRegression\n",
    "\n",
    "### Description\n",
    "\n",
    "---\n",
    "\n",
    "This statistical model describes the relationship between one dependent and one independent variable using a straight line.  \n",
    "  \n",
    "We use this model to make predictions based on the aforementioned relationships between our two variables.\n",
    "\n",
    "### Example\n",
    "\n",
    "---\n",
    "\n",
    "Let's say we want to predict what salary a person could earn based on their years of experience. Or vice versa.  \n",
    "  \n",
    "We would plot both variables onto an x and y axis to try and visually represent a relationship between the two variables.  \n",
    "  \n",
    "Let's define our variables:  \n",
    "<i>x</i> = Years of experience  \n",
    "<i>y</i> = Salary  \n",
    "  \n",
    "Let's say we see that on average (some variances are present) every time <i>x</i> increases by an increment value of ~1, <i>y</i> increases by an increment of ~1 as well.  \n",
    "  \n",
    "This would be an example of a linear increase.  \n",
    "  \n",
    "Based on this linear relationship between the two variables, we can make an accurate prediction for <i>x</i> based on an input value for <i>y</i>. And vice versa.\n"
   ],
   "cell_type": "markdown",
   "metadata": {}
  },
  {
   "source": [
    "### Install Dependencies If Needed\n",
    "\n",
    "---\n",
    "\n",
    "NOTE: This might not be required if you're running your notebook instance in the cloud! \n",
    "<br><br>\n",
    "Delete the cell below if this is the case..."
   ],
   "cell_type": "markdown",
   "metadata": {}
  },
  {
   "cell_type": "code",
   "execution_count": null,
   "metadata": {},
   "outputs": [],
   "source": [
    "# Install the sys dependency\n",
    "import sys\n",
    "# Install dependencies\n",
    "!{sys.executable} -m pip install numpy\n",
    "!{sys.executable} -m pip install matplotlib\n",
    "!{sys.executable} -m pip install pandas\n",
    "!{sys.executable} -m pip install sklearn"
   ]
  },
  {
   "source": [
    "### Import Packages\n",
    "\n",
    "---"
   ],
   "cell_type": "markdown",
   "metadata": {}
  },
  {
   "cell_type": "code",
   "execution_count": null,
   "metadata": {},
   "outputs": [],
   "source": [
    "# Import packages\n",
    "import nympy as np\n",
    "import matplotlib.pyplot as plt\n",
    "import pandas as pd\n",
    "from sklearn.model_selection import train_test_split\n",
    "from sklearn.linear_model import LinearRegression\n",
    "# Confirm packages have been imported\n",
    "print(\"Packages imported!\")"
   ]
  },
  {
   "source": [
    "### Import CSV Data\n",
    "\n",
    "---"
   ],
   "cell_type": "markdown",
   "metadata": {}
  },
  {
   "cell_type": "code",
   "execution_count": null,
   "metadata": {},
   "outputs": [],
   "source": [
    "# Import the data set using pandas csv reader\n",
    "dataset = pd.read_csv(\"YOUR_CSV_FILE_PATH_HERE\")\n",
    "# Confirm data has been imported\n",
    "print(\"Data has been imported!\")\n",
    "# Initialize variables\n",
    "x = dataset.iloc[:,:-1].values\n",
    "y = dataset.iloc[:,-1].values\n",
    "# Confirm variables have been initialized\n",
    "print(\"Variables have been initialized!\")"
   ]
  },
  {
   "source": [
    "### Split Data Set For Training & Testing\n",
    "\n",
    "---"
   ],
   "cell_type": "markdown",
   "metadata": {}
  },
  {
   "cell_type": "code",
   "execution_count": null,
   "metadata": {},
   "outputs": [],
   "source": [
    "# Initialize training & testing variables\n",
    "X_train, X_test, y_train, y_test = train_test_split(\n",
    "    X,\n",
    "    y,\n",
    "    test_size=1/3, # This can be fine tuned if required\n",
    "    random_state = 0 # This can be fine tuned if requred\n",
    ")"
   ]
  },
  {
   "source": [
    "### Train Model Using Training Set\n",
    "\n",
    "---"
   ],
   "cell_type": "markdown",
   "metadata": {}
  },
  {
   "cell_type": "code",
   "execution_count": null,
   "metadata": {},
   "outputs": [],
   "source": [
    "# Method to train the model\n",
    "regressor = LinearRegression()\n",
    "regressor.fit(\n",
    "    X_train, # Matrix features\n",
    "    y_train # Dependent variable vector\n",
    ")"
   ]
  },
  {
   "source": [
    "### Predict Test Results\n",
    "\n",
    "---"
   ],
   "cell_type": "markdown",
   "metadata": {}
  },
  {
   "cell_type": "code",
   "execution_count": null,
   "metadata": {},
   "outputs": [],
   "source": [
    "# Method to predict results\n",
    "y_pred = regressor.predict(X_test)"
   ]
  },
  {
   "source": [
    "### Visualize The Training Result\n",
    "\n",
    "---"
   ],
   "cell_type": "markdown",
   "metadata": {}
  },
  {
   "cell_type": "code",
   "execution_count": null,
   "metadata": {},
   "outputs": [],
   "source": [
    "# Create the first visualization for the training set\n",
    "plt.scatter(\n",
    "    X_train,\n",
    "    y_train,\n",
    "    color = 'red'\n",
    ")\n",
    "plt.plot(\n",
    "    X_train,\n",
    "    regressor.predict(X_train), # Plot the regression line\n",
    "    color = 'blue'\n",
    ")\n",
    "# Replace the text marked with '@' with your own text.\n",
    "# Don't forget to remove the '@' character!\n",
    "plt.title('@YOUR_X vs @YOUR_Y (Training Set)')\n",
    "plt.xlabel('@YOUR_X_AXIS_NAME')\n",
    "plt.ylabel('@YOUR_Y_AXIS_NAME')\n",
    "plt.show"
   ]
  },
  {
   "source": [
    "### Visualize The Test Result\n",
    "\n",
    "---"
   ],
   "cell_type": "markdown",
   "metadata": {}
  },
  {
   "cell_type": "code",
   "execution_count": null,
   "metadata": {},
   "outputs": [],
   "source": [
    "# Create the first visualization for the test set\n",
    "plt.scatter(\n",
    "    X_test,\n",
    "    y_test,\n",
    "    color = 'red'\n",
    ")\n",
    "plt.plot(\n",
    "    X_train,\n",
    "    regressor.predict(X_train), # Plot the regression line\n",
    "    color = 'blue'\n",
    ")\n",
    "# Replace the text marked with '@' with your own text.\n",
    "# Don't forget to remove the '@' character!\n",
    "plt.title('@YOUR_X vs @YOUR_Y (Test Set)')\n",
    "plt.xlabel('@YOUR_X_AXIS_NAME')\n",
    "plt.ylabel('@YOUR_Y_AXIS_NAME')\n",
    "plt.show"
   ]
  }
 ]
}