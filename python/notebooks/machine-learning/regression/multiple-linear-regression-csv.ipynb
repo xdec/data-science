{
 "metadata": {
  "language_info": {
   "codemirror_mode": {
    "name": "ipython",
    "version": 3
   },
   "file_extension": ".py",
   "mimetype": "text/x-python",
   "name": "python",
   "nbconvert_exporter": "python",
   "pygments_lexer": "ipython3",
   "version": "3.9.1"
  },
  "orig_nbformat": 2,
  "kernelspec": {
   "name": "python3",
   "display_name": "Python 3.9.1 64-bit",
   "metadata": {
    "interpreter": {
     "hash": "1a05dc623ad24f4a74001fceb05ae0d4f7cc7768e50c19a632bece4017063430"
    }
   }
  }
 },
 "nbformat": 4,
 "nbformat_minor": 2,
 "cells": [
  {
   "source": [
    "# Multiple Linear Regression\n",
    "### NOTE: This version is for CSV file imports!\n",
    "\n",
    "---\n",
    "\n",
    "Created By: Xavier De Carvalho  \n",
    "Created On: 12/08/2021  \n",
    "Upated By: N/A  \n",
    "Updated On: N/A  \n",
    "Version: csv0.0.01\n",
    "\n",
    "### Requirements\n",
    "\n",
    "---\n",
    "\n",
    "##### Required Data Format\n",
    "- File Type: CSV\n",
    "- File Shape: (n) Columns, (n) Rows\n",
    "\n",
    "##### Required Python Packages\n",
    "- Numpy\n",
    "- Pandas\n",
    "- ScikitLearn\n",
    "    - Model_Selection\n",
    "    - LinearRegression\n",
    "\n",
    "### Description\n",
    "\n",
    "---\n",
    "\n",
    "Multiple linear regression is used to estimate the relationship between two or more independent variables and one dependent variable. You can use multiple linear regression when you want to know:     \n",
    "\n",
    "1. How strong the relationship is between two or more independent variables and one dependent variable (e.g. how rainfall, temperature, and amount of fertilizer added affect crop growth).     \n",
    "2. The value of the dependent variable at a certain value of the independent variables (e.g. the expected yield of a crop at certain levels of rainfall, temperature, and fertilizer addition).\n",
    "\n",
    "### Example\n",
    "\n",
    "---\n",
    "\n",
    "You are a public health researcher interested in social factors that influence heart disease. You survey 500 towns and gather data on the percentage of people in each town who smoke, the percentage of people in each town who bike to work, and the percentage of people in each town who have heart disease.     \n",
    "\n",
    "Because you have two independent variables and one dependent variable, and all your variables are quantitative, you can use multiple linear regression to analyze the relationship between them.\n",
    "\n",
    "[scribbr - Multiple Linear Regression]('https://www.scribbr.com/statistics/multiple-linear-regression/')\n"
   ],
   "cell_type": "markdown",
   "metadata": {}
  },
  {
   "source": [
    "### Install Dependencies If Needed\n",
    "\n",
    "---\n",
    "\n",
    "NOTE: This might not be required if you're running your notebook instance in the cloud! \n",
    "<br><br>\n",
    "Delete the cell below if this is the case..."
   ],
   "cell_type": "markdown",
   "metadata": {}
  },
  {
   "cell_type": "code",
   "execution_count": null,
   "metadata": {},
   "outputs": [],
   "source": [
    "# Import the sys dependency\n",
    "import sys\n",
    "# Install dependencies\n",
    "!{sys.executable} -m pip install numpy\n",
    "!{sys.executable} -m pip install pandas\n",
    "!{sys.executable} -m pip install sklearn"
   ]
  },
  {
   "source": [
    "### Import Packages\n",
    "\n",
    "---"
   ],
   "cell_type": "markdown",
   "metadata": {}
  },
  {
   "cell_type": "code",
   "execution_count": null,
   "metadata": {},
   "outputs": [],
   "source": [
    "# Import packages\n",
    "import numpy as np\n",
    "import pandas as pd\n",
    "from sklearn.compose import ColumnTransformer\n",
    "from sklearn.preprocessing import OneHotEncoder\n",
    "from sklearn.model_selection import train_test_split\n",
    "from sklearn.linear_model import LinearRegression\n",
    "# Confirm packages have been imported\n",
    "print(\"Packages imported!\")"
   ]
  },
  {
   "source": [
    "### Import CSV Data\n",
    "\n",
    "---"
   ],
   "cell_type": "markdown",
   "metadata": {}
  },
  {
   "cell_type": "code",
   "execution_count": null,
   "metadata": {},
   "outputs": [],
   "source": [
    "# Import the data set using pandas csv reader\n",
    "dataset = pd.read_csv(\"@YOUR_CSV_FILE_PATH_HERE\")\n",
    "# Confirm data has been imported\n",
    "print(\"Data has been imported!\")\n",
    "# Initialize variables\n",
    "x = dataset.iloc[:,:-1].values\n",
    "y = dataset.iloc[:,-1].values\n",
    "# Confirm variables have been initialized\n",
    "print(\"Variables have been initialized!\")"
   ]
  },
  {
   "source": [
    "### Encode Categorical Data (One-hot)\n",
    "\n",
    "---"
   ],
   "cell_type": "markdown",
   "metadata": {}
  },
  {
   "cell_type": "code",
   "execution_count": null,
   "metadata": {},
   "outputs": [],
   "source": [
    "# Transform Columns and One-hot Encode Data\n",
    "ct = ColumnTransformer(\n",
    "    transformers=[ \n",
    "        (\n",
    "            'encoder',\n",
    "            OneHotEncoder(),\n",
    "            [0] # Set this to the index of the \n",
    "                # column you need to One-hot encode\n",
    "        )\n",
    "    ],\n",
    "    remainder='passthrough'\n",
    ")\n",
    "# One-hot encode x\n",
    "X = np.array(ct.fit_transform(x)) # One-hot encoded data will \n",
    "                                  # move to index 0 in new array"
   ]
  },
  {
   "source": [
    "### Split Data Set For Training & Testing\n",
    "\n",
    "---"
   ],
   "cell_type": "markdown",
   "metadata": {}
  },
  {
   "cell_type": "code",
   "execution_count": null,
   "metadata": {},
   "outputs": [],
   "source": [
    "# Initialize training & testing variables\n",
    "X_train, X_test, y_train, y_test = train_test_split(\n",
    "    X,\n",
    "    y,\n",
    "    test_size=1/3, # This can be fine tuned if required\n",
    "    random_state = 0 # This can be fine tuned if requred\n",
    ")"
   ]
  },
  {
   "source": [
    "### Train Model Using Training Set\n",
    "\n",
    "---"
   ],
   "cell_type": "markdown",
   "metadata": {}
  },
  {
   "cell_type": "code",
   "execution_count": null,
   "metadata": {},
   "outputs": [],
   "source": [
    "# Method to train the model\n",
    "regressor = LinearRegression()\n",
    "regressor.fit(\n",
    "    X_train, # Matrix features\n",
    "    y_train # Dependent variable vector\n",
    ")"
   ]
  },
  {
   "source": [
    "### Predict Test Results\n",
    "\n",
    "---"
   ],
   "cell_type": "markdown",
   "metadata": {}
  },
  {
   "cell_type": "code",
   "execution_count": null,
   "metadata": {},
   "outputs": [],
   "source": [
    "# Method to predict results\n",
    "y_pred = regressor.predict(X_test)\n",
    "# Print all numerical values with just 2 decimal places\n",
    "np.set_printoptions(precision=2)\n",
    "# Display two vectors - Actual vs Prediction\n",
    "print(\n",
    "    np.concatenate(\n",
    "        (\n",
    "            # Vertically concatenate the two vectors\n",
    "            y_pred.reshape(len(y_pred), 1),\n",
    "            y_test.reshape(len(y_test), 1)\n",
    "        ),\n",
    "        axis=1\n",
    "    )\n",
    ")"
   ]
  }
 ]
}