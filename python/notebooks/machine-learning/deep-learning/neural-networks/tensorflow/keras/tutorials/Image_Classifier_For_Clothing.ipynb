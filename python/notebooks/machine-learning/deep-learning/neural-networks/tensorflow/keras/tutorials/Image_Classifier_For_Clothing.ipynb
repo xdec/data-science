{
  "nbformat": 4,
  "nbformat_minor": 2,
  "metadata": {
    "colab": {
      "name": "Image_Classifier_For_Clothing.ipynb",
      "provenance": []
    },
    "kernelspec": {
      "name": "python3",
      "display_name": "Python 3"
    },
    "language_info": {
      "name": "python"
    }
  },
  "cells": [
    {
      "cell_type": "markdown",
      "source": [
        "# Tensorflow Image Classification\r\n",
        "### Classifying images of clothes\r\n",
        "\r\n",
        "---\r\n",
        "\r\n",
        "Created By: Xavier De Carvalho     \r\n",
        "Created On: 13/08/2021\r\n",
        "\r\n",
        "---\r\n",
        "\r\n",
        "## Requirements\r\n",
        "- Python\r\n",
        "- TensorFlow\r\n",
        "\r\n",
        "[Visit tensorflow.org for this tutorial.](https://www.tensorflow.org/tutorials/keras/classification)\r\n"
      ],
      "metadata": {
        "id": "ib_-aULgD4lB"
      }
    },
    {
      "cell_type": "markdown",
      "source": [
        "### Import Packages\n",
        "\n",
        "---\n"
      ],
      "metadata": {
        "id": "r8ZcLYwrEdLo"
      }
    },
    {
      "cell_type": "code",
      "execution_count": null,
      "source": [
        "# Import Packages\r\n",
        "import tensorflow as tf\r\n",
        "import numpy as np\r\n",
        "import matplotlib.pyplot as plt\r\n",
        "\r\n",
        "print(\"Packages Imported!\")\r\n",
        "\r\n",
        "# Verify TensorFlow version\r\n",
        "print(f'''TensorFlow -\r\n",
        "      Version: {tf.__version__}\r\n",
        "      ''')"
      ],
      "outputs": [],
      "metadata": {
        "id": "gN43nZyeDyaj"
      }
    },
    {
      "cell_type": "markdown",
      "source": [
        "### Import Dataset\n",
        "\n",
        "---\n"
      ],
      "metadata": {
        "id": "xoiEwT-8FEiJ"
      }
    },
    {
      "cell_type": "code",
      "execution_count": null,
      "source": [
        "# Import Data\r\n",
        "fashion_mnist = tf.keras.datasets.fashion_mnist\r\n",
        "\r\n",
        "# Create Training and Test sets\r\n",
        "(train_images, train_labels), (test_images, test_labels) = fashion_mnist.load_data()\r\n",
        "\r\n",
        "# Labels\r\n",
        "class_names = [\r\n",
        "    'T-shirt/top',\r\n",
        "    'Trouser',\r\n",
        "    'Pullover',\r\n",
        "    'Dress',\r\n",
        "    'Coat',\r\n",
        "    'Sandal',\r\n",
        "    'Shirt',\r\n",
        "    'Sneaker',\r\n",
        "    'Bag',\r\n",
        "    'Ankle Boot'\r\n",
        "]"
      ],
      "outputs": [],
      "metadata": {
        "id": "2QpeLi2OFHrw"
      }
    },
    {
      "cell_type": "markdown",
      "source": [
        "### Explore Dataset\n",
        "\n",
        "---\n"
      ],
      "metadata": {
        "id": "leP87objGLnb"
      }
    },
    {
      "cell_type": "code",
      "execution_count": null,
      "source": [
        "# Explore images shape\r\n",
        "print(f'''Data -\r\n",
        "      Training Set Shape:   {train_images.shape} \r\n",
        "      Testing Set Shape:    {test_images.shape}\r\n",
        "      ''')"
      ],
      "outputs": [],
      "metadata": {
        "id": "4wu1AOGwFrb7"
      }
    },
    {
      "cell_type": "code",
      "execution_count": null,
      "source": [
        "# Explore labels length\r\n",
        "print(f'''Data -\r\n",
        "      Training Labels Length:   {len(train_labels)} \r\n",
        "      Testing Labels Length:    {len(test_labels)}\r\n",
        "      ''')"
      ],
      "outputs": [],
      "metadata": {
        "id": "ot80HnCoGNls"
      }
    },
    {
      "cell_type": "code",
      "execution_count": null,
      "source": [
        "# Train and Test Labels\r\n",
        "train_labels, test_labels"
      ],
      "outputs": [],
      "metadata": {
        "id": "IPu9TyHuGq_J"
      }
    },
    {
      "cell_type": "markdown",
      "source": [
        "### Data Preprocessing\n",
        "\n",
        "---\n"
      ],
      "metadata": {
        "id": "RhJbe0_oG3ri"
      }
    },
    {
      "cell_type": "code",
      "execution_count": null,
      "source": [
        "# Inspect first image\r\n",
        "plt.figure()\r\n",
        "plt.imshow(train_images[0])\r\n",
        "plt.colorbar()\r\n",
        "plt.grid(False)\r\n",
        "plt.show()"
      ],
      "outputs": [],
      "metadata": {
        "id": "PrcUZdAsGwfg"
      }
    },
    {
      "cell_type": "code",
      "execution_count": null,
      "source": [
        "# Scale values\r\n",
        "train_images = train_images / 255.0\r\n",
        "test_images = test_images / 255.0\r\n",
        "\r\n",
        "print(\"Scaling complete!\")"
      ],
      "outputs": [],
      "metadata": {
        "id": "n4lY_E5CHMSv"
      }
    },
    {
      "cell_type": "code",
      "execution_count": null,
      "source": [
        "# Verify data format\r\n",
        "plt.figure(\r\n",
        "  figsize=(10,10)    \r\n",
        ")\r\n",
        "\r\n",
        "for i in range(25):\r\n",
        "  plt.subplot(5,5,i+1)\r\n",
        "  plt.xticks([])\r\n",
        "  plt.yticks([])\r\n",
        "  plt.grid(False)\r\n",
        "  plt.imshow(train_images[i], cmap=plt.cm.binary)\r\n",
        "  plt.xlabel(class_names[train_labels[i]])\r\n",
        "\r\n",
        "plt.show()"
      ],
      "outputs": [],
      "metadata": {
        "id": "v8sl0o80HZiG"
      }
    },
    {
      "cell_type": "markdown",
      "source": [
        "### Build Model\n",
        "\n",
        "---\n"
      ],
      "metadata": {
        "id": "q9VRxbjQIcPQ"
      }
    },
    {
      "cell_type": "code",
      "execution_count": null,
      "source": [
        "# Build Model\r\n",
        "model = tf.keras.Sequential([\r\n",
        "    tf.keras.layers.Flatten(input_shape=(28,28)),\r\n",
        "    tf.keras.layers.Dense(128, activation='relu'),\r\n",
        "    tf.keras.layers.Dense(10)                               \r\n",
        "])\r\n",
        "print(\"Model built!\")"
      ],
      "outputs": [],
      "metadata": {
        "id": "I2pql-qJIfaK"
      }
    },
    {
      "cell_type": "markdown",
      "source": [
        "### Compile Model\n",
        "\n",
        "---\n"
      ],
      "metadata": {
        "id": "NvE5nsLxJWNj"
      }
    },
    {
      "cell_type": "code",
      "execution_count": null,
      "source": [
        "# Compile Model\r\n",
        "model.compile(\r\n",
        "    optimizer='adam',\r\n",
        "    loss=tf.keras.losses.SparseCategoricalCrossentropy(from_logits=True),\r\n",
        "    metrics=['accuracy']\r\n",
        ")\r\n",
        "print(\"Model compiled!\")"
      ],
      "outputs": [],
      "metadata": {
        "id": "nLSJ3WUwJYNU"
      }
    },
    {
      "cell_type": "markdown",
      "source": [
        "### Train Model\n",
        "\n",
        "---\n"
      ],
      "metadata": {
        "id": "Fq1brCfNJvQv"
      }
    },
    {
      "cell_type": "code",
      "execution_count": null,
      "source": [
        "# Train Model\r\n",
        "model.fit(train_images, train_labels, epochs=10)"
      ],
      "outputs": [],
      "metadata": {
        "id": "QyrmV8PAJxq1"
      }
    },
    {
      "cell_type": "markdown",
      "source": [
        "### Evaluate Model Accuracy\n",
        "\n",
        "---\n"
      ],
      "metadata": {
        "id": "loZlC_B6KBxX"
      }
    },
    {
      "cell_type": "code",
      "execution_count": null,
      "source": [
        "# Evaluate Model Accuracy\r\n",
        "test_loss, test_acc = model.evaluate(test_images, test_labels, verbose=2)\r\n",
        "\r\n",
        "print(f'''Test -\r\n",
        "      Test Accuracy: {test_acc}\r\n",
        "''')"
      ],
      "outputs": [],
      "metadata": {
        "id": "vulKZS04J86S"
      }
    },
    {
      "cell_type": "markdown",
      "source": [
        "### Make Predictions\n",
        "\n",
        "---\n"
      ],
      "metadata": {
        "id": "Otw7r8jHKboK"
      }
    },
    {
      "cell_type": "code",
      "execution_count": null,
      "source": [
        "# Probability Model\r\n",
        "probability_model = tf.keras.Sequential(\r\n",
        "    [\r\n",
        "        model,\r\n",
        "        tf.keras.layers.Softmax()\r\n",
        "    ]\r\n",
        ")\r\n",
        "print(\"Probability model set!\")"
      ],
      "outputs": [],
      "metadata": {
        "id": "n14yKL4fKdm2"
      }
    },
    {
      "cell_type": "code",
      "execution_count": null,
      "source": [
        "# Predicitons\r\n",
        "predictions = probability_model.predict(test_images)\r\n",
        "print(\"Predictions created!\")"
      ],
      "outputs": [],
      "metadata": {
        "id": "ubFeEDDXKsSd"
      }
    },
    {
      "cell_type": "code",
      "execution_count": null,
      "source": [
        "# Make a Prediction\r\n",
        "predictions[0]"
      ],
      "outputs": [],
      "metadata": {
        "id": "5m1mjE5LK0xQ"
      }
    },
    {
      "cell_type": "code",
      "execution_count": null,
      "source": [
        "# Get the predicted label with the highest confidence and compare with Test\r\n",
        "print(f'''Predict -\r\n",
        "      Predicted Label:  {np.argmax(predictions[0])}\r\n",
        "      Test Label:       {test_labels[0]}\r\n",
        "''')"
      ],
      "outputs": [],
      "metadata": {
        "id": "UGUWEwjVK6h4"
      }
    },
    {
      "cell_type": "code",
      "execution_count": null,
      "source": [
        "# Create graph to view full prediction set\r\n",
        "\r\n",
        "def plot_image(i, predictions_array, true_label, img):\r\n",
        "  true_label, img = true_label[i], img[i]\r\n",
        "  plt.grid(False)\r\n",
        "  plt.xticks([])\r\n",
        "  plt.yticks([])\r\n",
        "\r\n",
        "  plt.imshow(img, cmap=plt.cm.binary)\r\n",
        "\r\n",
        "  predicted_label = np.argmax(predictions_array)\r\n",
        "  if predicted_label == true_label:\r\n",
        "    color = 'blue'\r\n",
        "  else:\r\n",
        "    color = 'red'\r\n",
        "\r\n",
        "  plt.xlabel(\r\n",
        "    \"{} {:2.0f}% ({})\".format(\r\n",
        "          class_names[predicted_label],\r\n",
        "          100*np.max(predictions_array),\r\n",
        "          class_names[true_label]\r\n",
        "        ),\r\n",
        "        color=color\r\n",
        "  )\r\n",
        "  \r\n",
        "print(\"Plot Image Function Created!\")\r\n",
        "\r\n",
        "\r\n",
        "def plot_value_array(i, predictions_array, true_label):\r\n",
        "  true_label = true_label[i]\r\n",
        "  plt.grid(False)\r\n",
        "  plt.xticks(range(10))\r\n",
        "  plt.yticks([])\r\n",
        "  thisplot = plt.bar(range(10), predictions_array, color=\"#777777\")\r\n",
        "  plt.ylim([0, 1])\r\n",
        "  predicted_label = np.argmax(predictions_array)\r\n",
        "\r\n",
        "  thisplot[predicted_label].set_color('red')\r\n",
        "  thisplot[true_label].set_color('blue')\r\n",
        "\r\n",
        "print(\"Plot Value Function Created!\")"
      ],
      "outputs": [],
      "metadata": {
        "id": "Ux-ZokR_L64i"
      }
    },
    {
      "cell_type": "markdown",
      "source": [
        "### Verify Predictions\n",
        "\n",
        "---\n"
      ],
      "metadata": {
        "id": "04GQBB8DNkuZ"
      }
    },
    {
      "cell_type": "code",
      "execution_count": null,
      "source": [
        "# Verify Predictions\r\n",
        "i = 0\r\n",
        "plt.figure(figsize=(6,3))\r\n",
        "plt.subplot(1,2,1)\r\n",
        "plot_image(i, predictions[i], test_labels, test_images)\r\n",
        "plt.subplot(1,2,2)\r\n",
        "plot_value_array(i, predictions[i], test_labels)\r\n",
        "plt.show()"
      ],
      "outputs": [],
      "metadata": {
        "id": "yczcePJoNkPx"
      }
    },
    {
      "cell_type": "code",
      "execution_count": null,
      "source": [
        "# Second test\r\n",
        "i = 12\r\n",
        "plt.figure(figsize=(6,3))\r\n",
        "plt.subplot(1,2,1)\r\n",
        "plot_image(i, predictions[i], test_labels, test_images)\r\n",
        "plt.subplot(1,2,2)\r\n",
        "plot_value_array(i, predictions[i], test_labels)\r\n",
        "plt.show()"
      ],
      "outputs": [],
      "metadata": {
        "id": "9Jo0CLTvQsX2"
      }
    },
    {
      "cell_type": "code",
      "execution_count": null,
      "source": [
        "# Plot first X test images with their predicted labels and their true labels.\r\n",
        "# Color 'correct' predictions in blue and 'incorrect' predictions in red.\r\n",
        "\r\n",
        "num_rows = 5\r\n",
        "num_cols = 3\r\n",
        "num_images = num_rows*num_cols\r\n",
        "\r\n",
        "plt.figure(\r\n",
        "    figsize=(2*2*num_cols, 2*num_rows)\r\n",
        ")\r\n",
        "\r\n",
        "for i in range(num_images):\r\n",
        "  plt.subplot(num_rows, 2*num_cols, 2*i+1)\r\n",
        "  plot_image(i, predictions[i], test_labels, test_images)\r\n",
        "  plt.subplot(num_rows, 2*num_cols, 2*i+2)\r\n",
        "  plot_value_array(i, predictions[i], test_labels)\r\n",
        "\r\n",
        "plt.tight_layout()\r\n",
        "plt.show()"
      ],
      "outputs": [],
      "metadata": {
        "id": "_6qTk3HJQ0UO"
      }
    },
    {
      "cell_type": "markdown",
      "source": [
        "### Use Trained Model\n",
        "\n",
        "---\n"
      ],
      "metadata": {
        "id": "FUPAGfaJRymi"
      }
    },
    {
      "cell_type": "code",
      "execution_count": null,
      "source": [
        "# Use model\r\n",
        "img_num = 12\r\n",
        "img = test_images[img_num] # Grab an image from the test set\r\n",
        "\r\n",
        "print(img.shape)"
      ],
      "outputs": [],
      "metadata": {
        "id": "0DM_jhd0R1H1"
      }
    },
    {
      "cell_type": "code",
      "execution_count": null,
      "source": [
        "# Add image to a batch where it's isolated\r\n",
        "img = (np.expand_dims(img, 0))\r\n",
        "\r\n",
        "print(img.shape)"
      ],
      "outputs": [],
      "metadata": {
        "id": "ybw_ViaMR-GR"
      }
    },
    {
      "cell_type": "code",
      "execution_count": null,
      "source": [
        "# Predict the label for the Test image\r\n",
        "predictions_single = probability_model.predict(img)\r\n",
        "\r\n",
        "print(predictions_single)"
      ],
      "outputs": [],
      "metadata": {
        "id": "eul1lqAQSGg9"
      }
    },
    {
      "cell_type": "code",
      "execution_count": null,
      "source": [
        "plot_value_array(1, predictions_single[0], test_labels)\r\n",
        "_ = plt.xticks(range(10), class_names, rotation=45)\r\n",
        "plt.show()"
      ],
      "outputs": [],
      "metadata": {
        "id": "ltlJKqNbSQus"
      }
    },
    {
      "cell_type": "code",
      "execution_count": null,
      "source": [
        "# Get the predicted label with the highest confidence and compare with Test\r\n",
        "print(f'''Predict -\r\n",
        "      Predicted Label:  {np.argmax(predictions_single[0])}\r\n",
        "      Test Label:       {test_labels[img_num]}\r\n",
        "''')"
      ],
      "outputs": [],
      "metadata": {
        "id": "SYLMU1BuS2Fx"
      }
    }
  ]
}