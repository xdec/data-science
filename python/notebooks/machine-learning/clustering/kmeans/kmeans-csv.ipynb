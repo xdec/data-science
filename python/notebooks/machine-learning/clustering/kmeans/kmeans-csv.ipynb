{
 "metadata": {
  "language_info": {
   "codemirror_mode": {
    "name": "ipython",
    "version": 3
   },
   "file_extension": ".py",
   "mimetype": "text/x-python",
   "name": "python",
   "nbconvert_exporter": "python",
   "pygments_lexer": "ipython3",
   "version": 3
  },
  "orig_nbformat": 4
 },
 "nbformat": 4,
 "nbformat_minor": 2,
 "cells": [
  {
   "source": [
    "# K-Means\n",
    "### NOTE: This version is for CSV file imports!\n",
    "\n",
    "---\n",
    "\n",
    "Created By: Xavier De Carvalho  \n",
    "Created On: 06/07/2021  \n",
    "Upated By: N/A  \n",
    "Updated On: N/A  \n",
    "Version: km0.0.01\n",
    "\n",
    "### Requirements\n",
    "\n",
    "---\n",
    "\n",
    "##### Required Data Format\n",
    "- File Type: CSV\n",
    "- File Shape: (n) Columns, (n) Rows\n",
    "\n",
    "##### Required Python Packages\n",
    "- Numpy\n",
    "- Matplotlib\n",
    "    - PyPlot\n",
    "    - ListedColormap\n",
    "- Pandas\n",
    "- ScikitLearn\n",
    "    - KMeans\n",
    "\n",
    "### Description\n",
    "\n",
    "---\n",
    "\n",
    "K-means clustering is one of the simplest and popular unsupervised machine learning algorithms.\n",
    "\n",
    "The K-means algorithm identifies k number of centroids, and then allocates every data point to the nearest cluster, while keeping the centroids as small as possible. In simple terms, it can identify clusters that exist in your data on your behalf.\n",
    "\n",
    "K-means clustering is an extensively used technique for data cluster analysis.\n",
    "\n",
    "### Steps\n",
    "\n",
    "---\n",
    "\n",
    "- **Step 1** Choose the number K of clusters\n",
    "- **Step 2** Select at random K points, the centroids (not necissarily from your dataset)\n",
    "- **Step 3** Assign each data point to the closest centroid (That forms K clusters)\n",
    "- **Step 4** Compute and place the new centroid of each cluster\n",
    "- **Step 5** Reassign each data point to the new closest centroid.\n",
    "    - If any reassignment took place, go to STEP 4, otherwise END and declare model is ready."
   ],
   "cell_type": "markdown",
   "metadata": {}
  },
  {
   "source": [
    "### Install Dependencies If Needed\n",
    "\n",
    "---\n",
    "\n",
    "NOTE: This might not be required if you're running your notebook instance in the cloud! \n",
    "\n",
    "Delete the cell below if this is the case..."
   ],
   "cell_type": "markdown",
   "metadata": {}
  },
  {
   "cell_type": "code",
   "execution_count": null,
   "metadata": {},
   "outputs": [],
   "source": [
    "# Import the sys dependency\n",
    "import sys\n",
    "# Install dependencies\n",
    "!{sys.executable} -m pip install numpy\n",
    "!{sys.executable} -m pip install matplotlib\n",
    "!{sys.executable} -m pip install pandas\n",
    "!{sys.executable} -m pip install sklearn"
   ]
  },
  {
   "source": [
    "### Import Packages\n",
    "\n",
    "---"
   ],
   "cell_type": "markdown",
   "metadata": {}
  },
  {
   "cell_type": "code",
   "execution_count": null,
   "metadata": {},
   "outputs": [],
   "source": [
    "# Import packages\n",
    "import numpy as np\n",
    "import matplotlib.pyplot as plt\n",
    "import pandas as pd\n",
    "from sklearn.cluster import KMeans\n",
    "# Confirm packages have been imported\n",
    "print(\"Packages imported!\")"
   ]
  },
  {
   "source": [
    "### Import Dataset\n",
    "\n",
    "---"
   ],
   "cell_type": "markdown",
   "metadata": {}
  },
  {
   "cell_type": "code",
   "execution_count": null,
   "metadata": {},
   "outputs": [],
   "source": [
    "# Import data from CSV\n",
    "dataset = pd.read_csv('YOUR_CSV')\n",
    "X = dataset.iloc[:,[3,4]].values # Tweak this as required and use only the columns you need to identify clusters\n",
    "# Confirm data has been imported\n",
    "print('Data has been imported from CSV!')"
   ]
  },
  {
   "source": [
    "### Use elbow method to find optimal number of clusters\n",
    "\n",
    "---"
   ],
   "cell_type": "markdown",
   "metadata": {}
  },
  {
   "cell_type": "code",
   "execution_count": null,
   "metadata": {},
   "outputs": [],
   "source": [
    "# Create the Elbow using Within-Cluster Sum of Square (WCSS)\n",
    "wcss = []\n",
    "for i in range(1,11):\n",
    "    kmeans = KMeans(n_clusters = i, init = 'k-means++', random_state = 42) # random_state can be tweaked as required\n",
    "    kmeans.fit(X)\n",
    "    wcss.append(kmeans.inertia_)\n",
    "# Plot the elbow\n",
    "plt.plot(range(1,11), wcss)\n",
    "plt.title('Elbow Method')\n",
    "plt.xlabel('Number of clusters')\n",
    "plt.ylabel('WCSS')\n",
    "plt.show()"
   ]
  },
  {
   "source": [
    "### Train K-Means model\n",
    "\n",
    "---"
   ],
   "cell_type": "markdown",
   "metadata": {}
  },
  {
   "cell_type": "code",
   "execution_count": null,
   "metadata": {},
   "outputs": [],
   "source": [
    "# Train the model\n",
    "kmeans = KMeans(n_clusters = 5, init = 'k-means++', random_state = 42) # Tweak n_clusters and random_state as required\n",
    "y_pred = kmeans.fit_predict(X)\n",
    "# Confirm model has been trained\n",
    "print('Model has been trained!')"
   ]
  },
  {
   "cell_type": "code",
   "execution_count": null,
   "metadata": {},
   "outputs": [],
   "source": [
    "print(y_pred)"
   ]
  },
  {
   "source": [
    "### Visualise clusters\n",
    "\n",
    "---"
   ],
   "cell_type": "markdown",
   "metadata": {}
  },
  {
   "cell_type": "code",
   "execution_count": null,
   "metadata": {},
   "outputs": [],
   "source": [
    "# Visualise the clusters - Tweak this to match the number of clusters you have created\n",
    "#   For reference: \n",
    "#       X and Y axis will be set using X[rows(WHERE each row CONTAINS the K cluster), column]\n",
    "# Cluster 1\n",
    "plt.scatter(X[y_pred == 0, 0], X[y_pred == 0, 1], s = 100, c = 'red', label = 'Cluster 1') \n",
    "# Cluster 2\n",
    "plt.scatter(X[y_pred == 1, 0], X[y_pred == 1, 1], s = 100, c = 'blue', label = 'Cluster 2')\n",
    "# Cluster 3\n",
    "plt.scatter(X[y_pred == 2, 0], X[y_pred == 2, 1], s = 100, c = 'green', label = 'Cluster 3')\n",
    "# Cluster 4\n",
    "plt.scatter(X[y_pred == 3, 0], X[y_pred == 3, 1], s = 100, c = 'cyan', label = 'Cluster 4')\n",
    "# Cluster 5\n",
    "plt.scatter(X[y_pred == 4, 0], X[y_pred == 4, 1], s = 100, c = 'magenta', label = 'Cluster 5')\n",
    "# Plot centroids\n",
    "#   For reference:\n",
    "#       X = [All Rows, Column 0], Y = [All Rows, Column 1]\n",
    "#       s can be tweaked as required\n",
    "plt.scatter(kmeans.cluster_centers_[:, 0], kmeans.cluster_centers_[:, 1], s = 300, c = 'yellow', label = 'Centroids')\n",
    "# Format visualisation\n",
    "# Replace the text marked with '@' with your own text.\n",
    "# Don't forget to remove the '@' character!\n",
    "plt.title('@YOUR_TITLE (Training Set)')\n",
    "plt.xlabel('@YOUR_X_AXIS_NAME') # e.g. Propensity\n",
    "plt.ylabel('@YOUR_Y_AXIS_NAME') # e.g. Income\n",
    "plt.legend()\n",
    "plt.show()"
   ]
  }
 ]
}